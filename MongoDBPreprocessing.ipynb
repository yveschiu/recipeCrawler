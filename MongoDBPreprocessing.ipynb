{
 "cells": [
  {
   "cell_type": "code",
   "execution_count": null,
   "metadata": {},
   "outputs": [],
   "source": [
    "# 把每一份json檔讀進來清理\n",
    "import os\n",
    "pwd = os.getcwd()\n",
    "print(pwd)\n",
    "data_dir = os.path.join(pwd, \"clean_recipe_json_output\")\n",
    "print(data_dir)\n",
    "recipe_json_list = os.listdir(data_dir)\n",
    "print(recipe_json_list[0])\n",
    "\n",
    "# recipes =\n",
    "# for recipe_json in recipe_json_list[]:\n",
    "#     infile = \"recipe_json_output/\" + recipe_json\n",
    "#     if os.path.isfile(infile):\n",
    "#         with open(infile, \"r\", encoding=\"utf-8\") as jsonFile:\n",
    "#             dict_strs = jsonFile.read()\n",
    "#             recipes = list(eval(dict_strs))\n",
    "\n",
    "#         outfile = \"clean_recipe_json_output/\" + recipe_json\n",
    "#         with open(outfile, \"w\", encoding=\"utf-8\") as jsonFile:\n",
    "#             json_str = repr(recipes)\n",
    "#             jsonFile.write(json_str)"
   ]
  },
  {
   "cell_type": "code",
   "execution_count": null,
   "metadata": {},
   "outputs": [],
   "source": [
    "for recipe_json in recipe_json_list:\n",
    "    infile = \"clean_recipe_json_output/\" + recipe_json\n",
    "    print(infile)\n",
    "\n",
    "    with open(infile, \"r\", encoding=\"utf-8\") as jsonFile:\n",
    "        dict_strs = jsonFile.read()\n",
    "        recipes = list(eval(dict_strs))\n",
    "    \n",
    "    for recipe in recipes:\n",
    "        for key in recipe[\"材料\"]:\n",
    "            if \":\" in key or \",\" in key:\n",
    "                print(key)\n",
    "                new_key = key.strip().replace(\":\",\"-\").replace(\",\",\"-\")\n",
    "                recipe[\"材料\"][new_key] = recipe[\"材料\"].pop(key)\n",
    "                print(new_key, recipe[\"材料\"][new_key])\n",
    "    \n",
    "    outfile = \"recipes_ready_for_MongoDB_storage/\" + recipe_json\n",
    "    with open(outfile, \"a\", encoding=\"utf-8\") as jsonFile:\n",
    "        dict_strs = repr(recipes)\n",
    "        jsonFile.write(dict_strs)"
   ]
  },
  {
   "cell_type": "code",
   "execution_count": null,
   "metadata": {},
   "outputs": [],
   "source": [
    "# 測試\n",
    "# subcat_recipe_list = []\n",
    "infile = \"clean_recipe_json_output/\" + recipe_json_list[0]\n",
    "print(infile)\n",
    "\n",
    "with open(infile, \"r\", encoding=\"utf-8\") as jsonFile:\n",
    "    dict_strs = jsonFile.read()\n",
    "    recipes = list(eval(dict_strs))\n",
    "recipes"
   ]
  },
  {
   "cell_type": "code",
   "execution_count": null,
   "metadata": {},
   "outputs": [],
   "source": [
    "type(recipes[0])"
   ]
  },
  {
   "cell_type": "code",
   "execution_count": null,
   "metadata": {},
   "outputs": [],
   "source": [
    "recipes[0]"
   ]
  },
  {
   "cell_type": "code",
   "execution_count": null,
   "metadata": {},
   "outputs": [],
   "source": [
    "for recipe in recipes:\n",
    "    for key in recipe[\"材料\"]:\n",
    "        if \":\" in key or \",\" in key:\n",
    "            print(key)\n",
    "            new_key = key.strip().replace(\":\",\"-\").replace(\",\",\"-\")\n",
    "            recipe[\"材料\"][new_key] = recipe[\"材料\"].pop(key)\n",
    "            print(new_key, recipe[\"材料\"][new_key])"
   ]
  },
  {
   "cell_type": "code",
   "execution_count": null,
   "metadata": {},
   "outputs": [],
   "source": [
    "import re\n",
    "regex = re.compile(r\".+-.+\")\n",
    "for recipe in recipes:\n",
    "    for key in recipe[\"材料\"]:\n",
    "        match = regex.search(key)\n",
    "        if match is not None:\n",
    "            print(key)\n",
    "            \n",
    "            \n",
    "            \n",
    "#             new_key = key.strip().replace(\":\",\"-\")\n",
    "#             recipe[\"材料\"][new_key] = recipe[\"材料\"].pop(key)\n",
    "#             print(new_key, recipe[\"材料\"][new_key])\n",
    "\n",
    "\n",
    "print(match)"
   ]
  },
  {
   "cell_type": "code",
   "execution_count": null,
   "metadata": {},
   "outputs": [],
   "source": [
    "a = \"   aa    \"\n",
    "a.strip()\n",
    "b = {\"a-sssss\":\"____\", \"v-123\":\"qqqqqq\"}\n",
    "b[\"a\"]\n",
    "re_pattern = \"[A-Z]\"\n",
    "for key in b:\n",
    "    if "
   ]
  },
  {
   "cell_type": "code",
   "execution_count": null,
   "metadata": {},
   "outputs": [],
   "source": [
    "import re\n",
    "string='臺中市南屯區埔興段35-12地號'\n",
    "regex = re.compile(r\".+-.+\")\n",
    "match = regex.search(key)\n",
    "print(match)\n",
    "regex = re.compile(r'段(\\d+-*\\d*)')\n",
    "match = regex.search(string)\n",
    "print(match.group(1))"
   ]
  },
  {
   "cell_type": "code",
   "execution_count": null,
   "metadata": {},
   "outputs": [],
   "source": [
    "a = \"abcde\"\n",
    "b = \"abc\"\n",
    "a-b"
   ]
  },
  {
   "cell_type": "code",
   "execution_count": null,
   "metadata": {},
   "outputs": [],
   "source": [
    "recipes[0][\"材料\"]"
   ]
  },
  {
   "cell_type": "code",
   "execution_count": null,
   "metadata": {},
   "outputs": [],
   "source": [
    "test_dict = recipes[0]"
   ]
  },
  {
   "cell_type": "code",
   "execution_count": null,
   "metadata": {},
   "outputs": [],
   "source": [
    "test_dict[\"i have a : in my key\"] = \"testing\""
   ]
  },
  {
   "cell_type": "code",
   "execution_count": null,
   "metadata": {},
   "outputs": [],
   "source": [
    "test_dict"
   ]
  },
  {
   "cell_type": "code",
   "execution_count": null,
   "metadata": {},
   "outputs": [],
   "source": [
    "for key in test_dict:\n",
    "    if \":\" in key:\n",
    "        print(key.replace(\":\", \"replacement\"))\n",
    "        new_key = key.replace(\":\", \"replacement\")\n",
    "        test_dict[new_key] = test_dict.pop(key)"
   ]
  },
  {
   "cell_type": "code",
   "execution_count": null,
   "metadata": {},
   "outputs": [],
   "source": [
    "test_dict"
   ]
  },
  {
   "cell_type": "code",
   "execution_count": null,
   "metadata": {},
   "outputs": [],
   "source": []
  }
 ],
 "metadata": {
  "kernelspec": {
   "display_name": "Python 3",
   "language": "python",
   "name": "python3"
  },
  "language_info": {
   "codemirror_mode": {
    "name": "ipython",
    "version": 3
   },
   "file_extension": ".py",
   "mimetype": "text/x-python",
   "name": "python",
   "nbconvert_exporter": "python",
   "pygments_lexer": "ipython3",
   "version": "3.6.0"
  }
 },
 "nbformat": 4,
 "nbformat_minor": 2
}
