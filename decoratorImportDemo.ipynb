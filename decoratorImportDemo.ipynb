{
 "cells": [
  {
   "cell_type": "code",
   "execution_count": 1,
   "metadata": {},
   "outputs": [],
   "source": [
    "# 把自定義模組資料夾路徑加入系統路徑\n",
    "import sys\n",
    "sys.path.append(\"tools\")"
   ]
  },
  {
   "cell_type": "code",
   "execution_count": 7,
   "metadata": {},
   "outputs": [
    {
     "name": "stdout",
     "output_type": "stream",
     "text": [
      "/Users/even/PycharmProjects/recipeCrawler\n",
      "/Library/Frameworks/Python.framework/Versions/3.6/lib/python36.zip\n",
      "/Library/Frameworks/Python.framework/Versions/3.6/lib/python3.6\n",
      "/Library/Frameworks/Python.framework/Versions/3.6/lib/python3.6/lib-dynload\n",
      "\n",
      "/Users/even/.local/share/virtualenvs/recipeCrawler/lib/python3.6/site-packages\n",
      "/Users/even/.local/share/virtualenvs/recipeCrawler/lib/python3.6/site-packages/setuptools-39.1.0-py3.6.egg\n",
      "/Users/even/.local/share/virtualenvs/recipeCrawler/lib/python3.6/site-packages/pip-10.0.1-py3.6.egg\n",
      "/Users/even/.local/share/virtualenvs/recipeCrawler/lib/python3.6/site-packages/IPython/extensions\n",
      "/Users/even/.ipython\n",
      "tools\n"
     ]
    }
   ],
   "source": [
    "for path in sys.path:\n",
    "    print(path)"
   ]
  },
  {
   "cell_type": "code",
   "execution_count": null,
   "metadata": {},
   "outputs": [],
   "source": [
    "# 導入裝飾器\n",
    "from .tools.countTimeDecorator import countTimeDecorator\n",
    "\n",
    "# 測試\n",
    "@countTimeDecorator(time_unit = \"s\")\n",
    "def testTime():\n",
    "    sum = 0\n",
    "    for i in range(10000000):\n",
    "        sum += i\n",
    "\n",
    "@countTimeDecorator\n",
    "def printTest():\n",
    "       for i in range(100000):\n",
    "            print(\"test\")\n",
    "\n",
    "printTest()"
   ]
  },
  {
   "cell_type": "code",
   "execution_count": null,
   "metadata": {},
   "outputs": [],
   "source": []
  }
 ],
 "metadata": {
  "kernelspec": {
   "display_name": "Python 3",
   "language": "python",
   "name": "python3"
  },
  "language_info": {
   "codemirror_mode": {
    "name": "ipython",
    "version": 3
   },
   "file_extension": ".py",
   "mimetype": "text/x-python",
   "name": "python",
   "nbconvert_exporter": "python",
   "pygments_lexer": "ipython3",
   "version": "3.6.0"
  }
 },
 "nbformat": 4,
 "nbformat_minor": 2
}
