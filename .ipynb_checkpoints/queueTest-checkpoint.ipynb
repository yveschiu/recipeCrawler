{
 "cells": [
  {
   "cell_type": "code",
   "execution_count": 4,
   "metadata": {},
   "outputs": [
    {
     "name": "stdout",
     "output_type": "stream",
     "text": [
      "Worker 1: Data 0\n",
      "data waiting for processing in my_queue: 9\n",
      "Worker 2: Data 1\n",
      "data waiting for processing in my_queue: 8\n",
      "Worker 1: Data 2Worker 2: Data 3\n",
      "data waiting for processing in my_queue: 6\n",
      "\n",
      "data waiting for processing in my_queue: 6\n",
      "Worker 1: Data 4Worker 2: Data 5\n",
      "\n",
      "data waiting for processing in my_queue: 4\n",
      "data waiting for processing in my_queue: 4\n",
      "Worker 1: Data 6Worker 2: Data 7\n",
      "data waiting for processing in my_queue: 2\n",
      "\n",
      "data waiting for processing in my_queue: 2\n",
      "Worker 1: Data 8Worker 2: Data 9\n",
      "data waiting for processing in my_queue: 0\n",
      "\n",
      "data waiting for processing in my_queue: 0\n",
      "Done.\n"
     ]
    }
   ],
   "source": [
    "import time\n",
    "import threading\n",
    "import queue\n",
    "\n",
    "# Worker 類別，負責處理資料\n",
    "class Worker(threading.Thread):\n",
    "  def __init__(self, queue, num):\n",
    "    threading.Thread.__init__(self)\n",
    "    self.queue = queue\n",
    "    self.num = num\n",
    "\n",
    "  def run(self):\n",
    "    while self.queue.qsize() > 0:\n",
    "      # 取得新的資料\n",
    "      msg = self.queue.get()\n",
    "\n",
    "      # 處理資料\n",
    "      print(\"Worker %d: %s\" % (self.num, msg))\n",
    "      print(\"data waiting for processing in my_queue: %d\" %(self.queue.qsize()))\n",
    "      time.sleep(1)\n",
    "\n",
    "# 建立佇列\n",
    "my_queue = queue.Queue()\n",
    "\n",
    "# 將資料放入佇列\n",
    "for i in range(10):\n",
    "  my_queue.put(\"Data %d\" % i)\n",
    "\n",
    "# 建立兩個 Worker\n",
    "my_worker1 = Worker(my_queue, 1)\n",
    "my_worker2 = Worker(my_queue, 2)\n",
    "\n",
    "# 讓 Worker 開始處理資料\n",
    "my_worker1.start()\n",
    "my_worker2.start()\n",
    "\n",
    "# 等待所有 Worker 結束\n",
    "my_worker1.join()\n",
    "my_worker2.join()\n",
    "\n",
    "print(\"Done.\")"
   ]
  },
  {
   "cell_type": "code",
   "execution_count": null,
   "metadata": {},
   "outputs": [],
   "source": []
  }
 ],
 "metadata": {
  "kernelspec": {
   "display_name": "Python 3",
   "language": "python",
   "name": "python3"
  },
  "language_info": {
   "codemirror_mode": {
    "name": "ipython",
    "version": 3
   },
   "file_extension": ".py",
   "mimetype": "text/x-python",
   "name": "python",
   "nbconvert_exporter": "python",
   "pygments_lexer": "ipython3",
   "version": "3.6.0"
  }
 },
 "nbformat": 4,
 "nbformat_minor": 2
}
