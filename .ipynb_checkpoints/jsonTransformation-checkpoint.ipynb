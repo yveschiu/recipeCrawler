{
 "cells": [
  {
   "cell_type": "code",
   "execution_count": null,
   "metadata": {},
   "outputs": [],
   "source": [
    "# 轉檔目標範例\n",
    "{\n",
    "  \"recipe_name\": \"草莓鐵鍋鬆餅 Dutch baby\",\n",
    "  \"recipe_photo\": \"https://tokyo-kitchen.icook.network/uploads/recipe/cover/238037/large_620272afa3d9d4c8.jpg\",\n",
    "  \"materials\": [\n",
    "    {\n",
    "      \"material_name\": \"7吋鐵鍋(或烤盤)\",\n",
    "      \"material_amount\": \"1個\"\n",
    "    },\n",
    "    {\n",
    "      \"material_name\": \"雞蛋\",\n",
    "      \"material_amount\": \"1個份\"\n",
    "    },\n",
    "    {\n",
    "      \"material_name\": \"糖\",\n",
    "      \"material_amount\": \"6g\"\n",
    "    }\n",
    "  ],\n",
    "  \"recipe_url\": \"https://icook.tw/recipes/238037\",\n",
    "  \"recipe_category\": \"下午茶\"\n",
    "}"
   ]
  },
  {
   "cell_type": "code",
   "execution_count": 1,
   "metadata": {},
   "outputs": [
    {
     "name": "stdout",
     "output_type": "stream",
     "text": [
      "/Users/even/PycharmProjects/recipeCrawler\n",
      "/Users/even/PycharmProjects/recipeCrawler/clean_recipe_json_output\n",
      "recipes_歐式麵包.json\n"
     ]
    }
   ],
   "source": [
    "# 把每一份json檔讀進來清理\n",
    "import os\n",
    "pwd = os.getcwd()\n",
    "print(pwd)\n",
    "data_dir = os.path.join(pwd, \"clean_recipe_json_output\")\n",
    "print(data_dir)\n",
    "recipe_json_list = os.listdir(data_dir)\n",
    "print(recipe_json_list[0])"
   ]
  },
  {
   "cell_type": "code",
   "execution_count": 2,
   "metadata": {},
   "outputs": [],
   "source": [
    "outer_name_list = [\"recipe_name\", \"recipe_photo\", \"materials\", \"recipe_url\", \"recipe_category\"]\n",
    "# inner_name_list = [\"material_name\", \"material_amount\"]"
   ]
  },
  {
   "cell_type": "code",
   "execution_count": 3,
   "metadata": {},
   "outputs": [
    {
     "name": "stdout",
     "output_type": "stream",
     "text": [
      "clean_recipe_json_output/recipes_歐式麵包.json\n"
     ]
    },
    {
     "ename": "SyntaxError",
     "evalue": "unexpected EOF while parsing (<string>, line 0)",
     "output_type": "error",
     "traceback": [
      "Traceback \u001b[0;36m(most recent call last)\u001b[0m:\n",
      "  File \u001b[1;32m\"/Users/even/.local/share/virtualenvs/recipeCrawler/lib/python3.6/site-packages/IPython/core/interactiveshell.py\"\u001b[0m, line \u001b[1;32m3267\u001b[0m, in \u001b[1;35mrun_code\u001b[0m\n    exec(code_obj, self.user_global_ns, self.user_ns)\n",
      "\u001b[0;36m  File \u001b[0;32m\"<ipython-input-3-706a91c359ae>\"\u001b[0;36m, line \u001b[0;32m7\u001b[0;36m, in \u001b[0;35m<module>\u001b[0;36m\u001b[0m\n\u001b[0;31m    recipes = list(eval(dict_strs))\u001b[0m\n",
      "\u001b[0;36m  File \u001b[0;32m\"<string>\"\u001b[0;36m, line \u001b[0;32munknown\u001b[0m\n\u001b[0;31m    \u001b[0m\n\u001b[0m    ^\u001b[0m\n\u001b[0;31mSyntaxError\u001b[0m\u001b[0;31m:\u001b[0m unexpected EOF while parsing\n"
     ]
    }
   ],
   "source": [
    "for recipe_json in recipe_json_list:\n",
    "    infile = \"clean_recipe_json_output/\" + recipe_json\n",
    "    print(infile)\n",
    "\n",
    "    with open(infile, \"r\", encoding=\"utf-8\") as jsonFile:\n",
    "        dict_strs = jsonFile.read()\n",
    "        recipes = list(eval(dict_strs))\n",
    "    \n",
    "    transformed_recipes_list = []\n",
    "    for a_recipe in recipes:\n",
    "        a_recipe[outer_name_list[0]] = a_recipe.pop(\"食譜名稱\")\n",
    "        a_recipe[outer_name_list[1]] = a_recipe.pop(\"料理圖片\")\n",
    "        a_recipe[outer_name_list[2]] = []\n",
    "        tmp_materials_dict = a_recipe.pop(\"材料\")\n",
    "        a_recipe[outer_name_list[3]] = a_recipe.pop(\"食譜網址\")\n",
    "        a_recipe[outer_name_list[4]] = a_recipe.pop(\"食譜分類\")\n",
    "        \n",
    "        tmp_materials_name_list = []\n",
    "        tmp_materials_amount_list = []\n",
    "        for key in tmp_materials_dict:\n",
    "            tmp_materials_name_list.append(key)\n",
    "            tmp_materials_amount_list.append(tmp_materials_dict[key])\n",
    "            \n",
    "        for i in range(len(tmp_materials_name_list)):\n",
    "            a_material = {}\n",
    "            a_material[\"material_name\"] = tmp_materials_name_list[i]\n",
    "            a_material[\"material_amount\"] = tmp_materials_amount_list[i]\n",
    "            a_recipe[\"materials\"].append(a_material)\n",
    "        \n",
    "        transformed_recipes_list.append(a_recipe)\n",
    "        \n",
    "    # Write\n",
    "    outfile = \"new_recipes_ready_for_MongoDB_storage\" + recipe_json\n",
    "    with open(infile, \"w\", encoding=\"utf-8\") as jsonFile:\n",
    "        dict_strs = repr(transformed_recipes_list)\n",
    "        jsonFile.write(dict_strs)\n"
   ]
  },
  {
   "cell_type": "code",
   "execution_count": null,
   "metadata": {},
   "outputs": [],
   "source": []
  },
  {
   "cell_type": "code",
   "execution_count": null,
   "metadata": {},
   "outputs": [],
   "source": [
    "a_recipe = recipes[4]\n",
    "a_recipe"
   ]
  },
  {
   "cell_type": "code",
   "execution_count": null,
   "metadata": {},
   "outputs": [],
   "source": [
    "outer_name_list = [\"recipe_name\", \"recipe_photo\", \"materials\", \"recipe_url\", \"recipe_category\"]\n",
    "inner_name_list = [\"material_name\", \"material_amount\"]\n",
    "\n",
    "a_recipe[outer_name_list[0]] = a_recipe.pop(\"食譜名稱\")\n",
    "a_recipe[outer_name_list[1]] = a_recipe.pop(\"料理圖片\")\n",
    "a_recipe[outer_name_list[2]] = []\n",
    "tmp_materials_dict = a_recipe.pop(\"材料\")\n",
    "a_recipe[outer_name_list[3]] = a_recipe.pop(\"食譜網址\")\n",
    "a_recipe[outer_name_list[4]] = a_recipe.pop(\"食譜分類\")"
   ]
  },
  {
   "cell_type": "code",
   "execution_count": null,
   "metadata": {},
   "outputs": [],
   "source": [
    "a_recipe"
   ]
  },
  {
   "cell_type": "code",
   "execution_count": null,
   "metadata": {},
   "outputs": [],
   "source": [
    "tmp_materials_dict"
   ]
  },
  {
   "cell_type": "code",
   "execution_count": null,
   "metadata": {},
   "outputs": [],
   "source": [
    "tmp_materials_name_list = []\n",
    "tmp_materials_amount_list = []\n",
    "for key in tmp_materials_dict:\n",
    "    tmp_materials_name_list.append(key)\n",
    "    tmp_materials_amount_list.append(tmp_materials_dict[key])"
   ]
  },
  {
   "cell_type": "code",
   "execution_count": null,
   "metadata": {},
   "outputs": [],
   "source": [
    "print(tmp_materials_name_list)\n",
    "print(tmp_materials_amount_list)"
   ]
  },
  {
   "cell_type": "code",
   "execution_count": null,
   "metadata": {},
   "outputs": [],
   "source": [
    "# arranged_material_list = []\n",
    "\n",
    "for i in range(len(tmp_materials_name_list)):\n",
    "    a_material = {}\n",
    "    a_material[\"material_name\"] = tmp_materials_name_list[i]\n",
    "    a_material[\"material_amount\"] = tmp_materials_amount_list[i]\n",
    "    a_recipe[\"materials\"].append(a_material)"
   ]
  },
  {
   "cell_type": "code",
   "execution_count": null,
   "metadata": {},
   "outputs": [],
   "source": [
    "a_recipe"
   ]
  },
  {
   "cell_type": "code",
   "execution_count": null,
   "metadata": {},
   "outputs": [],
   "source": [
    "\n",
    "materials_dict = a_recipe[\"materials\"][0]\n",
    "tmp_materials_name_list = []\n",
    "tmp_materials_amount_list = []\n",
    "#     print(materials_dict)\n",
    "for key in materials_dict:\n",
    "    tmp_materials_name_list.append(key)\n",
    "    tmp_materials_amount_list.append(materials_dict[key])\n",
    "#         a_material_key = key\n",
    "#         a_material_amount =  materials_dict[key]\n",
    "\n",
    "\n",
    "print(tmp_materials_name_list)\n",
    "print(tmp_materials_amount_list)\n",
    "\n",
    "for key in materials_dict:\n",
    "    if key in tmp_materials_name_list:\n",
    "        material_name = key\n",
    "        material_amount = materials_dict.pop(key)\n",
    "        a_material = {}\n",
    "        a_material[\"name\"] = material_name\n",
    "        a_material[\"material_amount\"] = material_amount\n",
    "        a_recipe[\"materials\"].append(a_material)            \n",
    "            \n",
    "#     for key in material_dict:\n",
    "#         material_name = key\n",
    "#         material_amount = materials_dict.pop(key)\n",
    "#         a_material = {}\n",
    "#         a_material[\"name\"] = material_name\n",
    "#         a_material[\"material_amount\"] = material_amount\n",
    "#         materials_list.append(a_material)\n",
    "# a_recipe[\"materials\"].append(a_material)\n"
   ]
  },
  {
   "cell_type": "code",
   "execution_count": null,
   "metadata": {},
   "outputs": [],
   "source": [
    "a_recipe[\"materials\"]"
   ]
  },
  {
   "cell_type": "code",
   "execution_count": null,
   "metadata": {},
   "outputs": [],
   "source": []
  },
  {
   "cell_type": "code",
   "execution_count": null,
   "metadata": {},
   "outputs": [],
   "source": []
  }
 ],
 "metadata": {
  "kernelspec": {
   "display_name": "Python 3",
   "language": "python",
   "name": "python3"
  },
  "language_info": {
   "codemirror_mode": {
    "name": "ipython",
    "version": 3
   },
   "file_extension": ".py",
   "mimetype": "text/x-python",
   "name": "python",
   "nbconvert_exporter": "python",
   "pygments_lexer": "ipython3",
   "version": "3.6.0"
  }
 },
 "nbformat": 4,
 "nbformat_minor": 2
}
