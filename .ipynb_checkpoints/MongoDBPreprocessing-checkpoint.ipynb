{
 "cells": [
  {
   "cell_type": "code",
   "execution_count": null,
   "metadata": {},
   "outputs": [],
   "source": [
    "# 把每一份json檔讀進來清理\n",
    "import os\n",
    "pwd = os.getcwd()\n",
    "print(pwd)\n",
    "data_dir = os.path.join(pwd, \"clean_recipe_json_output\")\n",
    "print(data_dir)\n",
    "recipe_json_list = os.listdir(data_dir)\n",
    "print(recipe_json_list[0])"
   ]
  },
  {
   "cell_type": "code",
   "execution_count": null,
   "metadata": {},
   "outputs": [],
   "source": [
    "# 把每份食譜裡面 key 的 \":\" 和 \",\" 換成 \"-\" \n",
    "for recipe_json in recipe_json_list:\n",
    "    infile = \"clean_recipe_json_output/\" + recipe_json\n",
    "    print(infile)\n",
    "\n",
    "    with open(infile, \"r\", encoding=\"utf-8\") as jsonFile:\n",
    "        dict_strs = jsonFile.read()\n",
    "        recipes = list(eval(dict_strs))\n",
    "    \n",
    "    for recipe in recipes:\n",
    "        for key in recipe[\"材料\"]:\n",
    "            if \":\" in key or \",\" in key:\n",
    "                print(key)\n",
    "                new_key = key.strip().replace(\":\",\"-\").replace(\",\",\"-\")\n",
    "                recipe[\"材料\"][new_key] = recipe[\"材料\"].pop(key)\n",
    "                print(new_key, recipe[\"材料\"][new_key])\n",
    "    \n",
    "    outfile = \"recipes_ready_for_MongoDB_storage/\" + recipe_json\n",
    "    with open(outfile, \"a\", encoding=\"utf-8\") as jsonFile:\n",
    "        dict_strs = repr(recipes)\n",
    "        jsonFile.write(dict_strs)"
   ]
  }
 ],
 "metadata": {
  "kernelspec": {
   "display_name": "Python 3",
   "language": "python",
   "name": "python3"
  },
  "language_info": {
   "codemirror_mode": {
    "name": "ipython",
    "version": 3
   },
   "file_extension": ".py",
   "mimetype": "text/x-python",
   "name": "python",
   "nbconvert_exporter": "python",
   "pygments_lexer": "ipython3",
   "version": "3.6.0"
  }
 },
 "nbformat": 4,
 "nbformat_minor": 2
}
