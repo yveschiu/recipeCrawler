{
 "cells": [
  {
   "cell_type": "code",
   "execution_count": null,
   "metadata": {},
   "outputs": [],
   "source": [
    "# import pandas as pd"
   ]
  },
  {
   "cell_type": "code",
   "execution_count": null,
   "metadata": {},
   "outputs": [],
   "source": [
    "# df = pd.read_csv(r'iCook_ingredient_res_analyze_used_v5_8_left_tag_v1.csv', engine='python', encoding='utf-8')\n",
    "# df"
   ]
  },
  {
   "cell_type": "code",
   "execution_count": null,
   "metadata": {},
   "outputs": [],
   "source": [
    "# len(df)"
   ]
  },
  {
   "cell_type": "code",
   "execution_count": null,
   "metadata": {},
   "outputs": [],
   "source": [
    "# df.info()"
   ]
  },
  {
   "cell_type": "code",
   "execution_count": null,
   "metadata": {},
   "outputs": [],
   "source": [
    "# mask9 = df[\"status_tag\"] == 9\n",
    "# df[mask9]"
   ]
  },
  {
   "cell_type": "code",
   "execution_count": null,
   "metadata": {},
   "outputs": [],
   "source": [
    "# # 轉檔目標範例\n",
    "# {\n",
    "#   \"recipe_name\": \"草莓鐵鍋鬆餅 Dutch baby\",\n",
    "#   \"recipe_photo\": \"https://tokyo-kitchen.icook.network/uploads/recipe/cover/238037/large_620272afa3d9d4c8.jpg\",\n",
    "#   \"materials\": [\n",
    "#     {\n",
    "#       \"material_name\": \"7吋鐵鍋(或烤盤)\",\n",
    "#       \"material_amount\": \"1個\"\n",
    "#     },\n",
    "#     {\n",
    "#       \"material_name\": \"雞蛋\",\n",
    "#       \"material_amount\": \"1個份\"\n",
    "#     },\n",
    "#     {\n",
    "#       \"material_name\": \"糖\",\n",
    "#       \"material_amount\": \"6g\"\n",
    "#     }\n",
    "#   ],\n",
    "#   \"recipe_url\": \"https://icook.tw/recipes/238037\",\n",
    "#   \"recipe_category\": \"下午茶\", # 這個欄位沒保留，改存下面的模型貼標\n",
    "#   \"model_tag\": \"$status_tag\" # 原本資料的status_tag是模型的分類\n",
    "# }"
   ]
  },
  {
   "cell_type": "code",
   "execution_count": 92,
   "metadata": {},
   "outputs": [],
   "source": [
    "import csv\n",
    "path = \"res/iCook_ingredient_res_analyze_used_v5_8_left_tag_v1.csv\"\n",
    "with open(path, \"r\", encoding=\"utf-8\") as infile:\n",
    "    csvfile = csv.reader(infile)\n",
    "    recipes_list = [d for d in csvfile]"
   ]
  },
  {
   "cell_type": "code",
   "execution_count": null,
   "metadata": {},
   "outputs": [],
   "source": [
    "recipes_list"
   ]
  },
  {
   "cell_type": "code",
   "execution_count": 94,
   "metadata": {},
   "outputs": [
    {
     "data": {
      "text/plain": [
       "['status_tag', 'Cuisine', 'Ingredients', 'image', 'Url']"
      ]
     },
     "execution_count": 94,
     "metadata": {},
     "output_type": "execute_result"
    }
   ],
   "source": [
    "# tags不會用到，拿來建欄位參考用\n",
    "tags = recipes_list[0]\n",
    "tags"
   ]
  },
  {
   "cell_type": "code",
   "execution_count": 95,
   "metadata": {},
   "outputs": [],
   "source": [
    "# 把tags欄位刪掉\n",
    "recipes_list.remove(recipes_list[0])\n",
    "recipes_list"
   ]
  },
  {
   "cell_type": "code",
   "execution_count": 47,
   "metadata": {},
   "outputs": [
    {
     "data": {
      "text/plain": [
       "['pepper', 'water', 'chicken', 'salt', 'oil']"
      ]
     },
     "execution_count": 47,
     "metadata": {},
     "output_type": "execute_result"
    }
   ],
   "source": [
    "# recipes_list[0][2].strip().split(\";\")"
   ]
  },
  {
   "cell_type": "code",
   "execution_count": 48,
   "metadata": {},
   "outputs": [],
   "source": [
    "# 整理成存進 mongo 的 json 格式\n",
    "# 版本一 materials = [] 不需存材料使用量的話，可以直接用 array 存起來\n",
    "recipes_json_list = []\n",
    "for recipe in recipes_list:\n",
    "    status_tag = recipe[0]\n",
    "    recipe_name = recipe[1]\n",
    "    materials = recipe[2].strip().split(\";\")\n",
    "    recipe_photo = recipe[3]\n",
    "    recipe_url = recipe[4]\n",
    "    \n",
    "    recipe_json = {\n",
    "        \"recipe_name\":recipe_name, \n",
    "        \"recipe_photo\":recipe_photo, \n",
    "        \"materials\": materials,\n",
    "        \"recipe_url\":recipe_url,\n",
    "        \"model_tag\":status_tag\n",
    "    }\n",
    "    \n",
    "    recipes_json_list.append(recipe_json)"
   ]
  },
  {
   "cell_type": "code",
   "execution_count": null,
   "metadata": {},
   "outputs": [],
   "source": [
    "recipes_json_list"
   ]
  },
  {
   "cell_type": "code",
   "execution_count": 55,
   "metadata": {},
   "outputs": [],
   "source": [
    "from pymongo import MongoClient, errors\n",
    "conn = MongoClient(host=\"localhost\", port=27017)\n",
    "db = conn.recipes\n",
    "collection = db.tagged_recipes\n",
    "\n",
    "inserted_id_list = []\n",
    "for recipe in recipes_json_list:          \n",
    "    try:\n",
    "        recipe_id = collection.insert_one(recipe).inserted_id\n",
    "        inserted_id_list.append(recipe_id)\n",
    "    except errors.InvalidDocument as inv_doc_err:\n",
    "        print(inv_doc_err)"
   ]
  },
  {
   "cell_type": "code",
   "execution_count": 4,
   "metadata": {},
   "outputs": [],
   "source": [
    "from tools.countTimeDecorator import countTimeDecorator\n",
    "from pymongo import MongoClient, errors\n",
    "\n",
    "@countTimeDecorator\n",
    "def recipesMongoQuery(db=\"recipes\", collection=\"tagged_recipes\", host=\"localhost\", port=27017, query={}):\n",
    "    conn = MongoClient(host=host, port=port)\n",
    "    db = conn[db]\n",
    "    collection = db[collection]\n",
    "    result = collection.find(query)\n",
    "    data = [d for d in result]\n",
    "    return data"
   ]
  },
  {
   "cell_type": "code",
   "execution_count": 42,
   "metadata": {},
   "outputs": [],
   "source": [
    "# Query 測試\n",
    "\"\"\"\n",
    "# official document\n",
    "db.collection.find(  # collection\n",
    "    { age: {$gte: 18}},  # query criteria\n",
    "    { name: 1, address:1}  # projection (decide the fields to show)\n",
    ").limit(5)  # cursor modifier\n",
    "\n",
    "\"\"\"\n",
    "\n",
    "\n",
    "query1 = {}\n",
    "query2 = {\"model_tag\":\"9\"} # 把 model_tag = \"9\" 的食譜拉出來\n",
    "query3 = {\"materials\":{\"$in\":[\"pork\"]}} # 材料含有 pork\n",
    "query4 = {\"materials\":{\"$in\":[\"pork\",\"egg\"]}} # 材料含有 pork 或 egg\n",
    "query5 = {\"$and\":[{\"materials\":{\"$in\":[\"pork\"]}},{\"materials\":{\"$in\":[\"egg\"]}}]} #材料含有 pork 和 egg\n",
    "query6 = {\"materials\":{\"$size\":2}}\n",
    "query7 = {\"materials\":{\"$not\":{\"$size\":1}}}\n",
    "query8 = {\"$and\":[{\"materials\":{\"$not\":{\"$size\":1}}},{\"model_tag\":\"0\"}]} # model_tag 是 \"1\" 且 materials含有兩種以上\n",
    "query9 = {\n",
    "    \"model_tag\":\"0\",\n",
    "    \"materials\":{\"$not\":{\"$size\":0}},\n",
    "    \"materials\":{\"$not\":{\"$size\":1}}\n",
    "} # query8 = query9"
   ]
  },
  {
   "cell_type": "code",
   "execution_count": 43,
   "metadata": {},
   "outputs": [
    {
     "name": "stdout",
     "output_type": "stream",
     "text": [
      "recipesMongoQuery's time consumed(sec) is: 7.1399741702609585e-06\n",
      "recipesMongoQuery's time consumed(sec) is: 3.1539466645982533e-06\n",
      "recipesMongoQuery's time consumed(sec) is: 5.8194663789537216e-06\n",
      "recipesMongoQuery's time consumed(sec) is: 5.4813755883110895e-06\n",
      "recipesMongoQuery's time consumed(sec) is: 2.2594796286688913e-06\n",
      "recipesMongoQuery's time consumed(sec) is: 1.8921825620863172e-06\n",
      "recipesMongoQuery's time consumed(sec) is: 3.503296110365126e-06\n",
      "recipesMongoQuery's time consumed(sec) is: 1.915891965230306e-06\n",
      "recipesMongoQuery's time consumed(sec) is: 1.86357233259413e-06\n"
     ]
    }
   ],
   "source": [
    "# data1 = [d for d in collection.find(query1)]\n",
    "# data2 = [d for d in collection.find(query2)]\n",
    "# data3 = [d for d in collection.find(query3)]\n",
    "# data4 = [d for d in collection.find(query4)]\n",
    "# data5 = [d for d in collection.find(query5)]\n",
    "\n",
    "data1 = recipesMongoQuery(query=query1)\n",
    "data2 = recipesMongoQuery(query=query2)\n",
    "data3 = recipesMongoQuery(query=query3)\n",
    "data4 = recipesMongoQuery(query=query4)\n",
    "data5 = recipesMongoQuery(query=query5)\n",
    "data6 = recipesMongoQuery(query=query6)\n",
    "data7 = recipesMongoQuery(query=query7)\n",
    "data8 = recipesMongoQuery(query=query8)\n",
    "data9 = recipesMongoQuery(query=query9)"
   ]
  },
  {
   "cell_type": "code",
   "execution_count": 44,
   "metadata": {},
   "outputs": [
    {
     "name": "stdout",
     "output_type": "stream",
     "text": [
      "861\n",
      "71\n",
      "61\n",
      "511\n",
      "30\n",
      "63\n",
      "798\n",
      "36\n",
      "36\n"
     ]
    }
   ],
   "source": [
    "print(len(data1))\n",
    "print(len(data2))\n",
    "print(len(data3))\n",
    "print(len(data4))\n",
    "print(len(data5))\n",
    "print(len(data6))\n",
    "print(len(data7))\n",
    "print(len(data8))\n",
    "print(len(data9))"
   ]
  },
  {
   "cell_type": "code",
   "execution_count": null,
   "metadata": {},
   "outputs": [],
   "source": [
    "# 下面是檢查 conn = pymongo.MongoClient() 實例在指定 db 和 collection 後的參數變化"
   ]
  },
  {
   "cell_type": "code",
   "execution_count": 105,
   "metadata": {},
   "outputs": [
    {
     "data": {
      "text/plain": [
       "{'_MongoClient__options': <pymongo.client_options.ClientOptions at 0x114318128>,\n",
       " '_MongoClient__default_database_name': None,\n",
       " '_MongoClient__lock': <unlocked _thread.lock object at 0x118bbd6c0>,\n",
       " '_MongoClient__cursor_manager': None,\n",
       " '_MongoClient__kill_cursors_queue': [],\n",
       " '_event_listeners': <pymongo.monitoring._EventListeners at 0x114318278>,\n",
       " '_MongoClient__index_cache': {},\n",
       " '_MongoClient__index_cache_lock': <unlocked _thread.lock object at 0x118bbda30>,\n",
       " '_BaseObject__codec_options': CodecOptions(document_class=dict, tz_aware=False, uuid_representation=PYTHON_LEGACY, unicode_decode_error_handler='strict', tzinfo=None),\n",
       " '_BaseObject__read_preference': Primary(),\n",
       " '_BaseObject__write_concern': WriteConcern(),\n",
       " '_BaseObject__read_concern': ReadConcern(),\n",
       " '_MongoClient__all_credentials': {},\n",
       " '_topology_settings': <pymongo.settings.TopologySettings at 0x11431b0b8>,\n",
       " '_topology': <pymongo.topology.Topology at 0x11431b048>,\n",
       " '_kill_cursors_executor': <pymongo.periodic_executor.PeriodicExecutor at 0x11914cdd8>}"
      ]
     },
     "execution_count": 105,
     "metadata": {},
     "output_type": "execute_result"
    }
   ],
   "source": [
    "conn.__dict__"
   ]
  },
  {
   "cell_type": "code",
   "execution_count": 108,
   "metadata": {},
   "outputs": [
    {
     "data": {
      "text/plain": [
       "{'_BaseObject__codec_options': CodecOptions(document_class=dict, tz_aware=False, uuid_representation=PYTHON_LEGACY, unicode_decode_error_handler='strict', tzinfo=None),\n",
       " '_BaseObject__read_preference': Primary(),\n",
       " '_BaseObject__write_concern': WriteConcern(),\n",
       " '_BaseObject__read_concern': ReadConcern(),\n",
       " '_Database__name': 'recipes',\n",
       " '_Database__client': MongoClient(host=['localhost:27017'], document_class=dict, tz_aware=False, connect=True),\n",
       " '_Database__incoming_manipulators': [],\n",
       " '_Database__incoming_copying_manipulators': [],\n",
       " '_Database__outgoing_manipulators': [],\n",
       " '_Database__outgoing_copying_manipulators': []}"
      ]
     },
     "execution_count": 108,
     "metadata": {},
     "output_type": "execute_result"
    }
   ],
   "source": [
    "conn[tdb].__dict__"
   ]
  },
  {
   "cell_type": "code",
   "execution_count": 110,
   "metadata": {},
   "outputs": [
    {
     "data": {
      "text/plain": [
       "{'_BaseObject__codec_options': CodecOptions(document_class=dict, tz_aware=False, uuid_representation=PYTHON_LEGACY, unicode_decode_error_handler='strict', tzinfo=None),\n",
       " '_BaseObject__read_preference': Primary(),\n",
       " '_BaseObject__write_concern': WriteConcern(),\n",
       " '_BaseObject__read_concern': ReadConcern(),\n",
       " '_Collection__database': Database(MongoClient(host=['localhost:27017'], document_class=dict, tz_aware=False, connect=True), 'recipes'),\n",
       " '_Collection__name': 'tagged_recipes',\n",
       " '_Collection__full_name': 'recipes.tagged_recipes',\n",
       " '_Collection__write_response_codec_options': CodecOptions(document_class=dict, tz_aware=False, uuid_representation=PYTHON_LEGACY, unicode_decode_error_handler='replace', tzinfo=None)}"
      ]
     },
     "execution_count": 110,
     "metadata": {},
     "output_type": "execute_result"
    }
   ],
   "source": [
    "conn[tdb][tcoll].__dict__"
   ]
  }
 ],
 "metadata": {
  "kernelspec": {
   "display_name": "Python 3",
   "language": "python",
   "name": "python3"
  },
  "language_info": {
   "codemirror_mode": {
    "name": "ipython",
    "version": 3
   },
   "file_extension": ".py",
   "mimetype": "text/x-python",
   "name": "python",
   "nbconvert_exporter": "python",
   "pygments_lexer": "ipython3",
   "version": "3.6.0"
  }
 },
 "nbformat": 4,
 "nbformat_minor": 2
}
